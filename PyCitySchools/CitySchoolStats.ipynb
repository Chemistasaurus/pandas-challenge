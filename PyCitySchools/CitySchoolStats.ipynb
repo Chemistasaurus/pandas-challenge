{
 "cells": [
  {
   "cell_type": "code",
   "execution_count": 1,
   "metadata": {},
   "outputs": [],
   "source": [
    "#Import dependencies.\n",
    "import pandas as pd\n",
    "from pathlib import Path\n",
    "\n",
    "\n",
    "\n",
    "                "
   ]
  },
  {
   "cell_type": "code",
   "execution_count": 2,
   "metadata": {},
   "outputs": [],
   "source": [
    "#Set up the file paths\n",
    "school_path=Path(\"Resources/schools_complete.csv\")\n",
    "student_path=Path(\"Resources/students_complete.csv\")\n",
    "\n",
    "\n"
   ]
  },
  {
   "cell_type": "code",
   "execution_count": 6,
   "metadata": {},
   "outputs": [
    {
     "data": {
      "text/html": [
       "<div>\n",
       "<style scoped>\n",
       "    .dataframe tbody tr th:only-of-type {\n",
       "        vertical-align: middle;\n",
       "    }\n",
       "\n",
       "    .dataframe tbody tr th {\n",
       "        vertical-align: top;\n",
       "    }\n",
       "\n",
       "    .dataframe thead th {\n",
       "        text-align: right;\n",
       "    }\n",
       "</style>\n",
       "<table border=\"1\" class=\"dataframe\">\n",
       "  <thead>\n",
       "    <tr style=\"text-align: right;\">\n",
       "      <th></th>\n",
       "      <th>School ID</th>\n",
       "      <th>school_name</th>\n",
       "      <th>type</th>\n",
       "      <th>size</th>\n",
       "      <th>budget</th>\n",
       "    </tr>\n",
       "  </thead>\n",
       "  <tbody>\n",
       "    <tr>\n",
       "      <th>0</th>\n",
       "      <td>0</td>\n",
       "      <td>Huang High School</td>\n",
       "      <td>District</td>\n",
       "      <td>2917</td>\n",
       "      <td>1910635</td>\n",
       "    </tr>\n",
       "    <tr>\n",
       "      <th>1</th>\n",
       "      <td>1</td>\n",
       "      <td>Figueroa High School</td>\n",
       "      <td>District</td>\n",
       "      <td>2949</td>\n",
       "      <td>1884411</td>\n",
       "    </tr>\n",
       "    <tr>\n",
       "      <th>2</th>\n",
       "      <td>2</td>\n",
       "      <td>Shelton High School</td>\n",
       "      <td>Charter</td>\n",
       "      <td>1761</td>\n",
       "      <td>1056600</td>\n",
       "    </tr>\n",
       "    <tr>\n",
       "      <th>3</th>\n",
       "      <td>3</td>\n",
       "      <td>Hernandez High School</td>\n",
       "      <td>District</td>\n",
       "      <td>4635</td>\n",
       "      <td>3022020</td>\n",
       "    </tr>\n",
       "    <tr>\n",
       "      <th>4</th>\n",
       "      <td>4</td>\n",
       "      <td>Griffin High School</td>\n",
       "      <td>Charter</td>\n",
       "      <td>1468</td>\n",
       "      <td>917500</td>\n",
       "    </tr>\n",
       "  </tbody>\n",
       "</table>\n",
       "</div>"
      ],
      "text/plain": [
       "   School ID            school_name      type  size   budget\n",
       "0          0      Huang High School  District  2917  1910635\n",
       "1          1   Figueroa High School  District  2949  1884411\n",
       "2          2    Shelton High School   Charter  1761  1056600\n",
       "3          3  Hernandez High School  District  4635  3022020\n",
       "4          4    Griffin High School   Charter  1468   917500"
      ]
     },
     "execution_count": 6,
     "metadata": {},
     "output_type": "execute_result"
    }
   ],
   "source": [
    "#Read in files\n",
    "school_df=pd.read_csv(school_path)\n",
    "student_df=pd.read_csv(student_path)\n",
    "student_df.head()\n",
    "school_df.head()\n",
    "\n"
   ]
  },
  {
   "cell_type": "code",
   "execution_count": 22,
   "metadata": {},
   "outputs": [
    {
     "data": {
      "text/html": [
       "<div>\n",
       "<style scoped>\n",
       "    .dataframe tbody tr th:only-of-type {\n",
       "        vertical-align: middle;\n",
       "    }\n",
       "\n",
       "    .dataframe tbody tr th {\n",
       "        vertical-align: top;\n",
       "    }\n",
       "\n",
       "    .dataframe thead th {\n",
       "        text-align: right;\n",
       "    }\n",
       "</style>\n",
       "<table border=\"1\" class=\"dataframe\">\n",
       "  <thead>\n",
       "    <tr style=\"text-align: right;\">\n",
       "      <th></th>\n",
       "      <th>School ID</th>\n",
       "      <th>school_name</th>\n",
       "      <th>type</th>\n",
       "      <th>size</th>\n",
       "      <th>budget</th>\n",
       "      <th>Student ID</th>\n",
       "      <th>student_name</th>\n",
       "      <th>gender</th>\n",
       "      <th>grade</th>\n",
       "      <th>reading_score</th>\n",
       "      <th>math_score</th>\n",
       "    </tr>\n",
       "  </thead>\n",
       "  <tbody>\n",
       "    <tr>\n",
       "      <th>0</th>\n",
       "      <td>0</td>\n",
       "      <td>Huang High School</td>\n",
       "      <td>District</td>\n",
       "      <td>2917</td>\n",
       "      <td>1910635</td>\n",
       "      <td>0</td>\n",
       "      <td>Paul Bradley</td>\n",
       "      <td>M</td>\n",
       "      <td>9th</td>\n",
       "      <td>66</td>\n",
       "      <td>79</td>\n",
       "    </tr>\n",
       "    <tr>\n",
       "      <th>1</th>\n",
       "      <td>0</td>\n",
       "      <td>Huang High School</td>\n",
       "      <td>District</td>\n",
       "      <td>2917</td>\n",
       "      <td>1910635</td>\n",
       "      <td>1</td>\n",
       "      <td>Victor Smith</td>\n",
       "      <td>M</td>\n",
       "      <td>12th</td>\n",
       "      <td>94</td>\n",
       "      <td>61</td>\n",
       "    </tr>\n",
       "    <tr>\n",
       "      <th>2</th>\n",
       "      <td>0</td>\n",
       "      <td>Huang High School</td>\n",
       "      <td>District</td>\n",
       "      <td>2917</td>\n",
       "      <td>1910635</td>\n",
       "      <td>2</td>\n",
       "      <td>Kevin Rodriguez</td>\n",
       "      <td>M</td>\n",
       "      <td>12th</td>\n",
       "      <td>90</td>\n",
       "      <td>60</td>\n",
       "    </tr>\n",
       "    <tr>\n",
       "      <th>3</th>\n",
       "      <td>0</td>\n",
       "      <td>Huang High School</td>\n",
       "      <td>District</td>\n",
       "      <td>2917</td>\n",
       "      <td>1910635</td>\n",
       "      <td>3</td>\n",
       "      <td>Dr. Richard Scott</td>\n",
       "      <td>M</td>\n",
       "      <td>12th</td>\n",
       "      <td>67</td>\n",
       "      <td>58</td>\n",
       "    </tr>\n",
       "    <tr>\n",
       "      <th>4</th>\n",
       "      <td>0</td>\n",
       "      <td>Huang High School</td>\n",
       "      <td>District</td>\n",
       "      <td>2917</td>\n",
       "      <td>1910635</td>\n",
       "      <td>4</td>\n",
       "      <td>Bonnie Ray</td>\n",
       "      <td>F</td>\n",
       "      <td>9th</td>\n",
       "      <td>97</td>\n",
       "      <td>84</td>\n",
       "    </tr>\n",
       "  </tbody>\n",
       "</table>\n",
       "</div>"
      ],
      "text/plain": [
       "   School ID        school_name      type  size   budget  Student ID  \\\n",
       "0          0  Huang High School  District  2917  1910635           0   \n",
       "1          0  Huang High School  District  2917  1910635           1   \n",
       "2          0  Huang High School  District  2917  1910635           2   \n",
       "3          0  Huang High School  District  2917  1910635           3   \n",
       "4          0  Huang High School  District  2917  1910635           4   \n",
       "\n",
       "        student_name gender grade  reading_score  math_score  \n",
       "0       Paul Bradley      M   9th             66          79  \n",
       "1       Victor Smith      M  12th             94          61  \n",
       "2    Kevin Rodriguez      M  12th             90          60  \n",
       "3  Dr. Richard Scott      M  12th             67          58  \n",
       "4         Bonnie Ray      F   9th             97          84  "
      ]
     },
     "execution_count": 22,
     "metadata": {},
     "output_type": "execute_result"
    }
   ],
   "source": [
    "#Merge the two datasets. Figure out if left or right or outer merge is best\n",
    "school_stats=pd.merge(school_df,student_df, on=\"school_name\", how=\"left\")\n",
    "school_stats.head()\n"
   ]
  },
  {
   "cell_type": "code",
   "execution_count": 23,
   "metadata": {},
   "outputs": [
    {
     "data": {
      "text/plain": [
       "array(['Huang High School', 'Figueroa High School', 'Shelton High School',\n",
       "       'Hernandez High School', 'Griffin High School',\n",
       "       'Wilson High School', 'Cabrera High School', 'Bailey High School',\n",
       "       'Holden High School', 'Pena High School', 'Wright High School',\n",
       "       'Rodriguez High School', 'Johnson High School', 'Ford High School',\n",
       "       'Thomas High School'], dtype=object)"
      ]
     },
     "execution_count": 23,
     "metadata": {},
     "output_type": "execute_result"
    }
   ],
   "source": [
    "school_stats[\"school_name\"].unique()\n",
    "school_stats[\"student_name\"].unique()\n",
    "school_stats[\"school_name\"].unique()"
   ]
  },
  {
   "cell_type": "code",
   "execution_count": 31,
   "metadata": {},
   "outputs": [
    {
     "name": "stdout",
     "output_type": "stream",
     "text": [
      "Total District Budget:  24649428\n",
      "Total Number of Students:  39170\n",
      "Total Number of Schools:  15\n"
     ]
    }
   ],
   "source": [
    "#Set up variables to store: total school budget, total students, per student budget, average math score, average reading score, %passing math, %passing reading,%overall passing(math and reading)\n",
    "individual_school_budget=school_stats[\"budget\"].unique()\n",
    "total_district_budget=individual_school_budget.sum()\n",
    "total_students=school_stats[\"student_name\"].count()\n",
    "total_schools=len(school_stats[\"school_name\"].unique())\n",
    "print('Total District Budget: ',total_district_budget)\n",
    "print('Total Number of Students: ',total_students)\n",
    "print('Total Number of Schools: ',total_schools)\n"
   ]
  },
  {
   "cell_type": "code",
   "execution_count": 27,
   "metadata": {},
   "outputs": [
    {
     "data": {
      "text/plain": [
       "78.98537145774827"
      ]
     },
     "execution_count": 27,
     "metadata": {},
     "output_type": "execute_result"
    }
   ],
   "source": [
    "#sum of math scores divided by the number of students, but might need to check if there are blank values.\n",
    "math_average=(school_stats[\"math_score\"].sum())/total_students\n",
    "math_average"
   ]
  },
  {
   "cell_type": "code",
   "execution_count": 28,
   "metadata": {},
   "outputs": [
    {
     "data": {
      "text/plain": [
       "81.87784018381414"
      ]
     },
     "execution_count": 28,
     "metadata": {},
     "output_type": "execute_result"
    }
   ],
   "source": [
    "reading_average=(school_stats[\"reading_score\"].sum())/(total_students)\n",
    "reading_average"
   ]
  },
  {
   "cell_type": "code",
   "execution_count": 38,
   "metadata": {},
   "outputs": [
    {
     "data": {
      "text/plain": [
       "74.9808526933878"
      ]
     },
     "execution_count": 38,
     "metadata": {},
     "output_type": "execute_result"
    }
   ],
   "source": [
    "#Passing math score is 70%\n",
    "passing_math=school_stats[(school_stats[\"math_score\"]>=70)].count()[\"student_name\"]\n",
    "passing_math\n",
    "passing_math_percent=(passing_math/float(total_students))*100\n",
    "passing_math_percent"
   ]
  },
  {
   "cell_type": "code",
   "execution_count": 41,
   "metadata": {},
   "outputs": [
    {
     "data": {
      "text/plain": [
       "85.80546336482001"
      ]
     },
     "execution_count": 41,
     "metadata": {},
     "output_type": "execute_result"
    }
   ],
   "source": [
    "passing_reading=school_stats[(school_stats[\"reading_score\"]>=70)].count()[\"student_name\"]\n",
    "passing_reading_percent=(passing_reading/float(total_students))*100\n",
    "passing_reading_percent"
   ]
  },
  {
   "cell_type": "code",
   "execution_count": 44,
   "metadata": {},
   "outputs": [
    {
     "data": {
      "text/plain": [
       "65.17232575950983"
      ]
     },
     "execution_count": 44,
     "metadata": {},
     "output_type": "execute_result"
    }
   ],
   "source": [
    "passing_math_reading_count=school_stats[(school_stats['math_score']>=70)&(school_stats['reading_score']>=70)].count()[\"student_name\"]\n",
    "passing_math_reading_count\n",
    "passing_math_reading_percent=(passing_math_reading_count/float(total_students))*100\n",
    "passing_math_reading_percent"
   ]
  },
  {
   "cell_type": "code",
   "execution_count": 50,
   "metadata": {},
   "outputs": [
    {
     "data": {
      "text/html": [
       "<div>\n",
       "<style scoped>\n",
       "    .dataframe tbody tr th:only-of-type {\n",
       "        vertical-align: middle;\n",
       "    }\n",
       "\n",
       "    .dataframe tbody tr th {\n",
       "        vertical-align: top;\n",
       "    }\n",
       "\n",
       "    .dataframe thead th {\n",
       "        text-align: right;\n",
       "    }\n",
       "</style>\n",
       "<table border=\"1\" class=\"dataframe\">\n",
       "  <thead>\n",
       "    <tr style=\"text-align: right;\">\n",
       "      <th></th>\n",
       "      <th>Total Number of Schools</th>\n",
       "      <th>Total Students</th>\n",
       "      <th>Total Budget</th>\n",
       "      <th>Average Math Score</th>\n",
       "      <th>Average Reading Score</th>\n",
       "      <th>% Passing Math</th>\n",
       "      <th>% Passing Reading</th>\n",
       "      <th>Overall Passing</th>\n",
       "    </tr>\n",
       "  </thead>\n",
       "  <tbody>\n",
       "    <tr>\n",
       "      <th>0</th>\n",
       "      <td>15</td>\n",
       "      <td>39,170</td>\n",
       "      <td>$24,649,428.00</td>\n",
       "      <td>78.99%</td>\n",
       "      <td>81.88%</td>\n",
       "      <td>74.98%</td>\n",
       "      <td>85.81%</td>\n",
       "      <td>65.17%</td>\n",
       "    </tr>\n",
       "  </tbody>\n",
       "</table>\n",
       "</div>"
      ],
      "text/plain": [
       "   Total Number of Schools Total Students    Total Budget Average Math Score  \\\n",
       "0                       15         39,170  $24,649,428.00             78.99%   \n",
       "\n",
       "  Average Reading Score % Passing Math % Passing Reading Overall Passing  \n",
       "0                81.88%         74.98%            85.81%          65.17%  "
      ]
     },
     "execution_count": 50,
     "metadata": {},
     "output_type": "execute_result"
    }
   ],
   "source": [
    "district_summary=pd.DataFrame([{\"Total Number of Schools\":total_schools,\"Total Students\":total_students,\"Total Budget\":total_district_budget,\"Average Math Score\":math_average,\"Average Reading Score\":reading_average,\"% Passing Math\":passing_math_percent,\"% Passing Reading\":passing_reading_percent,\"Overall Passing\":passing_math_reading_percent}])\n",
    "district_summary[\"Total Students\"]=district_summary[\"Total Students\"].map(\"{:,}\".format)\n",
    "district_summary[\"Total Budget\"]=district_summary[\"Total Budget\"].map(\"${:,.2f}\".format)\n",
    "district_summary[\"Average Math Score\"]=district_summary[\"Average Math Score\"].map(\"{:,.2f}%\".format)\n",
    "district_summary[\"Average Reading Score\"]=district_summary[\"Average Reading Score\"].map(\"{:,.2f}%\".format)\n",
    "district_summary[\"% Passing Math\"]=district_summary[\"% Passing Math\"].map(\"{:,.2f}%\".format)\n",
    "district_summary[\"% Passing Reading\"]=district_summary[\"% Passing Reading\"].map(\"{:,.2f}%\".format)\n",
    "district_summary[\"Overall Passing\"]=district_summary[\"Overall Passing\"].map(\"{:,.2f}%\".format)\n",
    "district_summary"
   ]
  },
  {
   "cell_type": "code",
   "execution_count": 66,
   "metadata": {},
   "outputs": [],
   "source": [
    "#On to the school part\n",
    "first_school=school_stats.loc[school_stats[\"school_name\"]==\"Huang High School\",:]\n",
    "first_school\n",
    "first_total_students=len(first_school['student_name'])\n",
    "first_student_budget=(first_school[\"budget\"].mean())/first_total_students\n",
    "first_math_average=(first_school[\"math_score\"].sum())/first_total_students\n",
    "first_reading_average=(first_school[\"reading_score\"].sum())/(first_total_students)\n",
    "first_passing_math=first_school[(first_school[\"math_score\"]>=70)].count()[\"student_name\"]\n",
    "first_passing_math_percent=(first_passing_math/float(first_total_students))*100\n",
    "first_passing_reading=first_school[(first_school[\"reading_score\"]>=70)].count()[\"student_name\"]\n",
    "first_passing_reading_percent=(first_passing_reading/float(first_total_students))*100\n",
    "first_overall_count=first_school[(first_school['math_score']>=70)&(first_school['reading_score']>=70)].count()[\"student_name\"]\n",
    "first_overall_percent=(first_overall_count/float(first_total_students))*100"
   ]
  },
  {
   "cell_type": "code",
   "execution_count": 69,
   "metadata": {},
   "outputs": [
    {
     "data": {
      "text/html": [
       "<div>\n",
       "<style scoped>\n",
       "    .dataframe tbody tr th:only-of-type {\n",
       "        vertical-align: middle;\n",
       "    }\n",
       "\n",
       "    .dataframe tbody tr th {\n",
       "        vertical-align: top;\n",
       "    }\n",
       "\n",
       "    .dataframe thead th {\n",
       "        text-align: right;\n",
       "    }\n",
       "</style>\n",
       "<table border=\"1\" class=\"dataframe\">\n",
       "  <thead>\n",
       "    <tr style=\"text-align: right;\">\n",
       "      <th></th>\n",
       "      <th>School ID</th>\n",
       "      <th>school_name</th>\n",
       "      <th>type</th>\n",
       "      <th>size</th>\n",
       "      <th>budget</th>\n",
       "      <th>Student ID</th>\n",
       "      <th>student_name</th>\n",
       "      <th>gender</th>\n",
       "      <th>grade</th>\n",
       "      <th>reading_score</th>\n",
       "      <th>math_score</th>\n",
       "    </tr>\n",
       "  </thead>\n",
       "  <tbody>\n",
       "    <tr>\n",
       "      <th>2917</th>\n",
       "      <td>1</td>\n",
       "      <td>Figueroa High School</td>\n",
       "      <td>District</td>\n",
       "      <td>2949</td>\n",
       "      <td>1884411</td>\n",
       "      <td>2917</td>\n",
       "      <td>Amy Jacobs</td>\n",
       "      <td>F</td>\n",
       "      <td>10th</td>\n",
       "      <td>85</td>\n",
       "      <td>87</td>\n",
       "    </tr>\n",
       "    <tr>\n",
       "      <th>2918</th>\n",
       "      <td>1</td>\n",
       "      <td>Figueroa High School</td>\n",
       "      <td>District</td>\n",
       "      <td>2949</td>\n",
       "      <td>1884411</td>\n",
       "      <td>2918</td>\n",
       "      <td>Nathan Campbell</td>\n",
       "      <td>M</td>\n",
       "      <td>12th</td>\n",
       "      <td>97</td>\n",
       "      <td>84</td>\n",
       "    </tr>\n",
       "    <tr>\n",
       "      <th>2919</th>\n",
       "      <td>1</td>\n",
       "      <td>Figueroa High School</td>\n",
       "      <td>District</td>\n",
       "      <td>2949</td>\n",
       "      <td>1884411</td>\n",
       "      <td>2919</td>\n",
       "      <td>Randall Stewart</td>\n",
       "      <td>M</td>\n",
       "      <td>12th</td>\n",
       "      <td>67</td>\n",
       "      <td>77</td>\n",
       "    </tr>\n",
       "    <tr>\n",
       "      <th>2920</th>\n",
       "      <td>1</td>\n",
       "      <td>Figueroa High School</td>\n",
       "      <td>District</td>\n",
       "      <td>2949</td>\n",
       "      <td>1884411</td>\n",
       "      <td>2920</td>\n",
       "      <td>Jennifer Brown</td>\n",
       "      <td>F</td>\n",
       "      <td>9th</td>\n",
       "      <td>97</td>\n",
       "      <td>64</td>\n",
       "    </tr>\n",
       "    <tr>\n",
       "      <th>2921</th>\n",
       "      <td>1</td>\n",
       "      <td>Figueroa High School</td>\n",
       "      <td>District</td>\n",
       "      <td>2949</td>\n",
       "      <td>1884411</td>\n",
       "      <td>2921</td>\n",
       "      <td>Denise Lopez</td>\n",
       "      <td>F</td>\n",
       "      <td>10th</td>\n",
       "      <td>79</td>\n",
       "      <td>64</td>\n",
       "    </tr>\n",
       "    <tr>\n",
       "      <th>...</th>\n",
       "      <td>...</td>\n",
       "      <td>...</td>\n",
       "      <td>...</td>\n",
       "      <td>...</td>\n",
       "      <td>...</td>\n",
       "      <td>...</td>\n",
       "      <td>...</td>\n",
       "      <td>...</td>\n",
       "      <td>...</td>\n",
       "      <td>...</td>\n",
       "      <td>...</td>\n",
       "    </tr>\n",
       "    <tr>\n",
       "      <th>5861</th>\n",
       "      <td>1</td>\n",
       "      <td>Figueroa High School</td>\n",
       "      <td>District</td>\n",
       "      <td>2949</td>\n",
       "      <td>1884411</td>\n",
       "      <td>5861</td>\n",
       "      <td>April Sullivan</td>\n",
       "      <td>F</td>\n",
       "      <td>9th</td>\n",
       "      <td>81</td>\n",
       "      <td>92</td>\n",
       "    </tr>\n",
       "    <tr>\n",
       "      <th>5862</th>\n",
       "      <td>1</td>\n",
       "      <td>Figueroa High School</td>\n",
       "      <td>District</td>\n",
       "      <td>2949</td>\n",
       "      <td>1884411</td>\n",
       "      <td>5862</td>\n",
       "      <td>Jessica Mccann</td>\n",
       "      <td>F</td>\n",
       "      <td>11th</td>\n",
       "      <td>99</td>\n",
       "      <td>66</td>\n",
       "    </tr>\n",
       "    <tr>\n",
       "      <th>5863</th>\n",
       "      <td>1</td>\n",
       "      <td>Figueroa High School</td>\n",
       "      <td>District</td>\n",
       "      <td>2949</td>\n",
       "      <td>1884411</td>\n",
       "      <td>5863</td>\n",
       "      <td>Charles Walker</td>\n",
       "      <td>M</td>\n",
       "      <td>11th</td>\n",
       "      <td>98</td>\n",
       "      <td>64</td>\n",
       "    </tr>\n",
       "    <tr>\n",
       "      <th>5864</th>\n",
       "      <td>1</td>\n",
       "      <td>Figueroa High School</td>\n",
       "      <td>District</td>\n",
       "      <td>2949</td>\n",
       "      <td>1884411</td>\n",
       "      <td>5864</td>\n",
       "      <td>Tammy Burns</td>\n",
       "      <td>F</td>\n",
       "      <td>9th</td>\n",
       "      <td>91</td>\n",
       "      <td>83</td>\n",
       "    </tr>\n",
       "    <tr>\n",
       "      <th>5865</th>\n",
       "      <td>1</td>\n",
       "      <td>Figueroa High School</td>\n",
       "      <td>District</td>\n",
       "      <td>2949</td>\n",
       "      <td>1884411</td>\n",
       "      <td>5865</td>\n",
       "      <td>Ricky Harrison</td>\n",
       "      <td>M</td>\n",
       "      <td>10th</td>\n",
       "      <td>99</td>\n",
       "      <td>65</td>\n",
       "    </tr>\n",
       "  </tbody>\n",
       "</table>\n",
       "<p>2949 rows × 11 columns</p>\n",
       "</div>"
      ],
      "text/plain": [
       "      School ID           school_name      type  size   budget  Student ID  \\\n",
       "2917          1  Figueroa High School  District  2949  1884411        2917   \n",
       "2918          1  Figueroa High School  District  2949  1884411        2918   \n",
       "2919          1  Figueroa High School  District  2949  1884411        2919   \n",
       "2920          1  Figueroa High School  District  2949  1884411        2920   \n",
       "2921          1  Figueroa High School  District  2949  1884411        2921   \n",
       "...         ...                   ...       ...   ...      ...         ...   \n",
       "5861          1  Figueroa High School  District  2949  1884411        5861   \n",
       "5862          1  Figueroa High School  District  2949  1884411        5862   \n",
       "5863          1  Figueroa High School  District  2949  1884411        5863   \n",
       "5864          1  Figueroa High School  District  2949  1884411        5864   \n",
       "5865          1  Figueroa High School  District  2949  1884411        5865   \n",
       "\n",
       "         student_name gender grade  reading_score  math_score  \n",
       "2917       Amy Jacobs      F  10th             85          87  \n",
       "2918  Nathan Campbell      M  12th             97          84  \n",
       "2919  Randall Stewart      M  12th             67          77  \n",
       "2920   Jennifer Brown      F   9th             97          64  \n",
       "2921     Denise Lopez      F  10th             79          64  \n",
       "...               ...    ...   ...            ...         ...  \n",
       "5861   April Sullivan      F   9th             81          92  \n",
       "5862   Jessica Mccann      F  11th             99          66  \n",
       "5863   Charles Walker      M  11th             98          64  \n",
       "5864      Tammy Burns      F   9th             91          83  \n",
       "5865   Ricky Harrison      M  10th             99          65  \n",
       "\n",
       "[2949 rows x 11 columns]"
      ]
     },
     "execution_count": 69,
     "metadata": {},
     "output_type": "execute_result"
    }
   ],
   "source": [
    "second_school=school_stats.loc[school_stats[\"school_name\"]==\"Figueroa High School\",:]\n",
    "second_school\n",
    "second_total_students=len(second_school['student_name'])\n",
    "second_student_budget=(second_school[\"budget\"].mean())/second_total_students\n",
    "second_math_average=(second_school[\"math_score\"].sum())/second_total_students\n",
    "second_reading_average=(second_school[\"reading_score\"].sum())/(second_total_students)\n",
    "second_passing_math=second_school[(second_school[\"math_score\"]>=70)].count()[\"student_name\"]\n",
    "second_passing_math_percent=(second_passing_math/float(second_total_students))*100\n",
    "second_passing_reading=second_school[(second_school[\"reading_score\"]>=70)].count()[\"student_name\"]\n",
    "second_passing_reading_percent=(second_passing_reading/float(second_total_students))*100\n",
    "second_overall_count=second_school[(second_school['math_score']>=70)&(second_school['reading_score']>=70)].count()[\"student_name\"]\n",
    "second_overall_percent=(second_overall_count/float(second_total_students))*100\n",
    "second_school\n",
    "\n"
   ]
  },
  {
   "cell_type": "code",
   "execution_count": 67,
   "metadata": {},
   "outputs": [],
   "source": [
    "third_school=school_stats.loc[school_stats[\"school_name\"]==\"Shelton High School\",:]\n",
    "third_school\n",
    "third_total_students=len(third_school['student_name'])\n",
    "third_student_budget=(third_school[\"budget\"].mean())/third_total_students\n",
    "third_math_average=(third_school[\"math_score\"].sum())/third_total_students\n",
    "third_reading_average=(third_school[\"reading_score\"].sum())/(third_total_students)\n",
    "third_passing_math=third_school[(third_school[\"math_score\"]>=70)].count()[\"student_name\"]\n",
    "third_passing_math_percent=(third_passing_math/float(third_total_students))*100\n",
    "third_passing_reading=third_school[(third_school[\"reading_score\"]>=70)].count()[\"student_name\"]\n",
    "third_passing_reading_percent=(third_passing_reading/float(third_total_students))*100\n",
    "third_overall_count=third_school[(third_school['math_score']>=70)&(third_school['reading_score']>=70)].count()[\"student_name\"]\n",
    "third_overall_percent=(third_overall_count/float(third_total_students))*100"
   ]
  },
  {
   "cell_type": "code",
   "execution_count": null,
   "metadata": {},
   "outputs": [],
   "source": [
    "fourth_school=school_stats.loc[school_stats[\"school_name\"]==\"Hernandez High School\",:]\n",
    "fourth_school\n",
    "fourth_total_students=len(fourth_school['student_name'])\n",
    "fourth_student_budget=(fourth_school[\"budget\"].mean())/fourth_total_students\n",
    "fourth_math_average=(fourth_school[\"math_score\"].sum())/fourth_total_students\n",
    "fourth_reading_average=(fourth_school[\"reading_score\"].sum())/(fourth_total_students)\n",
    "fourth_passing_math=fourth_school[(fourth_school[\"math_score\"]>=70)].count()[\"student_name\"]\n",
    "fourth_passing_math_percent=(fourth_passing_math/float(fourth_total_students))*100\n",
    "fourth_passing_reading=fourth_school[(fourth_school[\"reading_score\"]>=70)].count()[\"student_name\"]\n",
    "fourth_passing_reading_percent=(fourth_passing_reading/float(fourth_total_students))*100\n",
    "fourth_overall_count=fourth_school[(fourth_school['math_score']>=70)&(fourth_school['reading_score']>=70)].count()[\"student_name\"]\n",
    "fourth_overall_percent=(fourth_overall_count/float(fourth_total_students))*100"
   ]
  },
  {
   "cell_type": "code",
   "execution_count": 70,
   "metadata": {},
   "outputs": [],
   "source": [
    "fifth_school=school_stats.loc[school_stats[\"school_name\"]==\"Griffin High School\",:]\n",
    "fifth_school\n",
    "fifth_total_students=len(fifth_school['student_name'])\n",
    "fifth_student_budget=(fifth_school[\"budget\"].mean())/fifth_total_students\n",
    "fifth_math_average=(fifth_school[\"math_score\"].sum())/fifth_total_students\n",
    "fifth_reading_average=(fifth_school[\"reading_score\"].sum())/(fifth_total_students)\n",
    "fifth_passing_math=fifth_school[(fifth_school[\"math_score\"]>=70)].count()[\"student_name\"]\n",
    "fifth_passing_math_percent=(fifth_passing_math/float(fifth_total_students))*100\n",
    "fifth_passing_reading=fifth_school[(fifth_school[\"reading_score\"]>=70)].count()[\"student_name\"]\n",
    "fifth_passing_reading_percent=(fifth_passing_reading/float(fifth_total_students))*100\n",
    "fifth_overall_count=fifth_school[(fifth_school['math_score']>=70)&(fifth_school['reading_score']>=70)].count()[\"student_name\"]\n",
    "fifth_overall_percent=(fifth_overall_count/float(fifth_total_students))*100\n"
   ]
  },
  {
   "cell_type": "code",
   "execution_count": 71,
   "metadata": {},
   "outputs": [],
   "source": [
    "sixth_school=school_stats.loc[school_stats[\"school_name\"]==\"Wilson High School\",:]\n",
    "sixth_school\n",
    "sixth_total_students=len(sixth_school['student_name'])\n",
    "sixth_student_budget=(sixth_school[\"budget\"].mean())/sixth_total_students\n",
    "sixth_math_average=(sixth_school[\"math_score\"].sum())/sixth_total_students\n",
    "sixth_reading_average=(sixth_school[\"reading_score\"].sum())/(sixth_total_students)\n",
    "sixth_passing_math=sixth_school[(sixth_school[\"math_score\"]>=70)].count()[\"student_name\"]\n",
    "sixth_passing_math_percent=(sixth_passing_math/float(sixth_total_students))*100\n",
    "sixth_passing_reading=sixth_school[(sixth_school[\"reading_score\"]>=70)].count()[\"student_name\"]\n",
    "sixth_passing_reading_percent=(sixth_passing_reading/float(sixth_total_students))*100\n",
    "sixth_overall_count=sixth_school[(sixth_school['math_score']>=70)&(sixth_school['reading_score']>=70)].count()[\"student_name\"]\n",
    "sixth_overall_percent=(sixth_overall_count/float(sixth_total_students))*100\n"
   ]
  },
  {
   "cell_type": "code",
   "execution_count": 72,
   "metadata": {},
   "outputs": [],
   "source": [
    "seventh_school=school_stats.loc[school_stats[\"school_name\"]==\"Cabrera High School\",:]\n",
    "seventh_school\n",
    "seventh_total_students=len(seventh_school['student_name'])\n",
    "seventh_student_budget=(seventh_school[\"budget\"].mean())/seventh_total_students\n",
    "seventh_math_average=(seventh_school[\"math_score\"].sum())/seventh_total_students\n",
    "seventh_reading_average=(seventh_school[\"reading_score\"].sum())/(seventh_total_students)\n",
    "seventh_passing_math=seventh_school[(seventh_school[\"math_score\"]>=70)].count()[\"student_name\"]\n",
    "seventh_passing_math_percent=(seventh_passing_math/float(seventh_total_students))*100\n",
    "seventh_passing_reading=seventh_school[(seventh_school[\"reading_score\"]>=70)].count()[\"student_name\"]\n",
    "seventh_passing_reading_percent=(seventh_passing_reading/float(seventh_total_students))*100\n",
    "seventh_overall_count=seventh_school[(seventh_school['math_score']>=70)&(seventh_school['reading_score']>=70)].count()[\"student_name\"]\n",
    "seventh_overall_percent=(seventh_overall_count/float(seventh_total_students))*100\n"
   ]
  },
  {
   "cell_type": "code",
   "execution_count": null,
   "metadata": {},
   "outputs": [],
   "source": [
    "eighth_school=school_stats.loc[school_stats[\"school_name\"]==\"Bailey High School\",:]\n",
    "eighth_school\n",
    "eighth_total_students=len(eighth_school['student_name'])\n",
    "eighth_student_budget=(eighth_school[\"budget\"].mean())/eighth_total_students\n",
    "eighth_math_average=(eighth_school[\"math_score\"].sum())/eighth_total_students\n",
    "eighth_reading_average=(eighth_school[\"reading_score\"].sum())/(eighth_total_students)\n",
    "eighth_passing_math=eighth_school[(eighth_school[\"math_score\"]>=70)].count()[\"student_name\"]\n",
    "eighth_passing_math_percent=(eighth_passing_math/float(eighth_total_students))*100\n",
    "eighth_passing_reading=eighth_school[(eighth_school[\"reading_score\"]>=70)].count()[\"student_name\"]\n",
    "eighth_passing_reading_percent=(eighth_passing_reading/float(eighth_total_students))*100\n",
    "eighth_overall_count=eighth_school[(eighth_school['math_score']>=70)&(eighth_school['reading_score']>=70)].count()[\"student_name\"]\n",
    "eighth_overall_percent=(eighth_overall_count/float(eighth_total_students))*100\n"
   ]
  },
  {
   "cell_type": "code",
   "execution_count": null,
   "metadata": {},
   "outputs": [],
   "source": [
    "ninth_school=school_stats.loc[school_stats[\"school_name\"]==\"Holden High School\",:]\n",
    "ninth_school\n",
    "ninth_total_students=len(ninth_school['student_name'])\n",
    "ninth_student_budget=(ninth_school[\"budget\"].mean())/ninth_total_students\n",
    "ninth_math_average=(ninth_school[\"math_score\"].sum())/ninth_total_students\n",
    "ninth_reading_average=(ninth_school[\"reading_score\"].sum())/(ninth_total_students)\n",
    "ninth_passing_math=ninth_school[(ninth_school[\"math_score\"]>=70)].count()[\"student_name\"]\n",
    "ninth_passing_math_percent=(ninth_passing_math/float(ninth_total_students))*100\n",
    "ninth_passing_reading=ninth_school[(ninth_school[\"reading_score\"]>=70)].count()[\"student_name\"]\n",
    "ninth_passing_reading_percent=(ninth_passing_reading/float(ninth_total_students))*100\n",
    "ninth_overall_count=ninth_school[(ninth_school['math_score']>=70)&(ninth_school['reading_score']>=70)].count()[\"student_name\"]\n",
    "ninth_overall_percent=(ninth_overall_count/float(ninth_total_students))*100\n"
   ]
  },
  {
   "cell_type": "code",
   "execution_count": null,
   "metadata": {},
   "outputs": [],
   "source": [
    "tenth_school=school_stats.loc[school_stats[\"school_name\"]==\"Pena High School\",:]\n",
    "tenth_school\n",
    "tenth_total_students=len(tenth_school['student_name'])\n",
    "tenth_student_budget=(tenth_school[\"budget\"].mean())/tenth_total_students\n",
    "tenth_math_average=(tenth_school[\"math_score\"].sum())/tenth_total_students\n",
    "tenth_reading_average=(tenth_school[\"reading_score\"].sum())/(tenth_total_students)\n",
    "tenth_passing_math=tenth_school[(tenth_school[\"math_score\"]>=70)].count()[\"student_name\"]\n",
    "tenth_passing_math_percent=(tenth_passing_math/float(tenth_total_students))*100\n",
    "tenth_passing_reading=tenth_school[(tenth_school[\"reading_score\"]>=70)].count()[\"student_name\"]\n",
    "tenth_passing_reading_percent=(tenth_passing_reading/float(tenth_total_students))*100\n",
    "tenth_overall_count=tenth_school[(tenth_school['math_score']>=70)&(tenth_school['reading_score']>=70)].count()[\"student_name\"]\n",
    "tenth_overall_percent=(tenth_overall_count/float(tenth_total_students))*100\n",
    "\n"
   ]
  },
  {
   "cell_type": "code",
   "execution_count": null,
   "metadata": {},
   "outputs": [],
   "source": [
    "eleventh_school=school_stats.loc[school_stats[\"school_name\"]==\"Wright High School\",:]\n",
    "eleventh_school\n",
    "eleventh_total_students=len(eleventh_school['student_name'])\n",
    "eleventh_student_budget=(eleventh_school[\"budget\"].mean())/eleventh_total_students\n",
    "eleventh_math_average=(eleventh_school[\"math_score\"].sum())/eleventh_total_students\n",
    "eleventh_reading_average=(eleventh_school[\"reading_score\"].sum())/(eleventh_total_students)\n",
    "eleventh_passing_math=eleventh_school[(eleventh_school[\"math_score\"]>=70)].count()[\"student_name\"]\n",
    "eleventh_passing_math_percent=(eleventh_passing_math/float(eleventh_total_students))*100\n",
    "eleventh_passing_reading=eleventh_school[(eleventh_school[\"reading_score\"]>=70)].count()[\"student_name\"]\n",
    "eleventh_passing_reading_percent=(eleventh_passing_reading/float(eleventh_total_students))*100\n",
    "eleventh_overall_count=eleventh_school[(eleventh_school['math_score']>=70)&(eleventh_school['reading_score']>=70)].count()[\"student_name\"]\n",
    "eleventh_overall_percent=(eleventh_overall_count/float(eleventh_total_students))*100\n",
    "\n"
   ]
  },
  {
   "cell_type": "code",
   "execution_count": null,
   "metadata": {},
   "outputs": [],
   "source": [
    "twelfth_school=school_stats.loc[school_stats[\"school_name\"]==\"Rodriguez High School\",:]\n",
    "twelfth_school\n",
    "twelfth_total_students=len(twelfth_school['student_name'])\n",
    "twelfth_student_budget=(twelfth_school[\"budget\"].mean())/twelfth_total_students\n",
    "twelfth_math_average=(twelfth_school[\"math_score\"].sum())/twelfth_total_students\n",
    "twelfth_reading_average=(twelfth_school[\"reading_score\"].sum())/(twelfth_total_students)\n",
    "twelfth_passing_math=twelfth_school[(twelfth_school[\"math_score\"]>=70)].count()[\"student_name\"]\n",
    "twelfth_passing_math_percent=(twelfth_passing_math/float(twelfth_total_students))*100\n",
    "twelfth_passing_reading=twelfth_school[(twelfth_school[\"reading_score\"]>=70)].count()[\"student_name\"]\n",
    "twelfth_passing_reading_percent=(twelfth_passing_reading/float(twelfth_total_students))*100\n",
    "twelfth_overall_count=twelfth_school[(twelfth_school['math_score']>=70)&(twelfth_school['reading_score']>=70)].count()[\"student_name\"]\n",
    "twelfth_overall_percent=(twelfth_overall_count/float(twelfth_total_students))*100\n",
    "\n"
   ]
  },
  {
   "cell_type": "code",
   "execution_count": null,
   "metadata": {},
   "outputs": [],
   "source": [
    "thirteenth_school=school_stats.loc[school_stats[\"school_name\"]==\"Johnson High School\",:]\n",
    "thirteenth_school\n",
    "thirteenth_total_students=len(thirteenth_school['student_name'])\n",
    "thirteenth_student_budget=(thirteenth_school[\"budget\"].mean())/thirteenth_total_students\n",
    "thirteenth_math_average=(thirteenth_school[\"math_score\"].sum())/thirteenth_total_students\n",
    "thirteenth_reading_average=(thirteenth_school[\"reading_score\"].sum())/(thirteenth_total_students)\n",
    "thirteenth_passing_math=thirteenth_school[(thirteenth_school[\"math_score\"]>=70)].count()[\"student_name\"]\n",
    "thirteenth_passing_math_percent=(thirteenth_passing_math/float(thirteenth_total_students))*100\n",
    "thirteenth_passing_reading=thirteenth_school[(thirteenth_school[\"reading_score\"]>=70)].count()[\"student_name\"]\n",
    "thirteenth_passing_reading_percent=(thirteenth_passing_reading/float(thirteenth_total_students))*100\n",
    "thirteenth_overall_count=thirteenth_school[(thirteenth_school['math_score']>=70)&(thirteenth_school['reading_score']>=70)].count()[\"student_name\"]\n",
    "thirteenth_overall_percent=(thirteenth_overall_count/float(thirteenth_total_students))*100\n",
    "\n"
   ]
  },
  {
   "cell_type": "code",
   "execution_count": null,
   "metadata": {},
   "outputs": [],
   "source": [
    "fourteenth_school=school_stats.loc[school_stats[\"school_name\"]==\"Ford High School\",:]\n",
    "fourteenth_school\n",
    "fourteenth_total_students=len(fourteenth_school['student_name'])\n",
    "fourteenth_student_budget=(fourteenth_school[\"budget\"].mean())/fourteenth_total_students\n",
    "fourteenth_math_average=(fourteenth_school[\"math_score\"].sum())/fourteenth_total_students\n",
    "fourteenth_reading_average=(fourteenth_school[\"reading_score\"].sum())/(fourteenth_total_students)\n",
    "fourteenth_passing_math=fourteenth_school[(fourteenth_school[\"math_score\"]>=70)].count()[\"student_name\"]\n",
    "fourteenth_passing_math_percent=(fourteenth_passing_math/float(fourteenth_total_students))*100\n",
    "fourteenth_passing_reading=fourteenth_school[(fourteenth_school[\"reading_score\"]>=70)].count()[\"student_name\"]\n",
    "fourteenth_passing_reading_percent=(fourteenth_passing_reading/float(fourteenth_total_students))*100\n",
    "fourteenth_overall_count=fourteenth_school[(fourteenth_school['math_score']>=70)&(fourteenth_school['reading_score']>=70)].count()[\"student_name\"]\n",
    "fourteenth_overall_percent=(fourteenth_overall_count/float(fourteenth_total_students))*100\n",
    "\n"
   ]
  },
  {
   "cell_type": "code",
   "execution_count": 59,
   "metadata": {},
   "outputs": [
    {
     "data": {
      "text/plain": [
       "655.0"
      ]
     },
     "execution_count": 59,
     "metadata": {},
     "output_type": "execute_result"
    }
   ],
   "source": [
    "fifteenth_school=school_stats.loc[school_stats[\"school_name\"]==\"Thomas High School\",:]\n",
    "fifteenth_school\n",
    "fifteenth_total_students=len(fifteenth_school['student_name'])\n",
    "fifteenth_student_budget=(fifteenth_school[\"budget\"].mean())/fifteenth_total_students\n",
    "fifteenth_math_average=(fifteenth_school[\"math_score\"].sum())/fifteenth_total_students\n",
    "fifteenth_reading_average=(fifteenth_school[\"reading_score\"].sum())/(fifteenth_total_students)\n",
    "fifteenth_passing_math=fifteenth_school[(fifteenth_school[\"math_score\"]>=70)].count()[\"student_name\"]\n",
    "fifteenth_passing_math_percent=(fifteenth_passing_math/float(fifteenth_total_students))*100\n",
    "fifteenth_passing_reading=fifteenth_school[(fifteenth_school[\"reading_score\"]>=70)].count()[\"student_name\"]\n",
    "fifteenth_passing_reading_percent=(fifteenth_passing_reading/float(fifteenth_total_students))*100\n",
    "fifteenth_overall_count=fifteenth_school[(fifteenth_school['math_score']>=70)&(fifteenth_school['reading_score']>=70)].count()[\"student_name\"]\n",
    "fifteenth_overall_percent=(fifteenth_overall_count/float(fifteenth_total_students))*100\n",
    "\n"
   ]
  },
  {
   "cell_type": "code",
   "execution_count": 60,
   "metadata": {},
   "outputs": [],
   "source": [
    "schools_summary=pd.DataFrame([{\"School Name\":first_school[\"school_name\"][1],\"School Type\":first_school[\"type\"][1],\"Total Students\":first_total_students,\n",
    "                              \"Total School Budget\":first_school[\"budget\"].mean(),\"Per Student Budget\":first_student_budget,\n",
    "                              \"Average Math Score\":first_math_average,\"Average Reading Score\":first_reading_average,\n",
    "                              \"% Passing Math\":first_passing_math_percent,\"% Passing Reading\":first_passing_reading_percent,\"% Overall Passing\":first_overall_percent},\n",
    "                              ])\n",
    "schools_summary"
   ]
  },
  {
   "cell_type": "code",
   "execution_count": 63,
   "metadata": {},
   "outputs": [
    {
     "data": {
      "text/html": [
       "<div>\n",
       "<style scoped>\n",
       "    .dataframe tbody tr th:only-of-type {\n",
       "        vertical-align: middle;\n",
       "    }\n",
       "\n",
       "    .dataframe tbody tr th {\n",
       "        vertical-align: top;\n",
       "    }\n",
       "\n",
       "    .dataframe thead th {\n",
       "        text-align: right;\n",
       "    }\n",
       "</style>\n",
       "<table border=\"1\" class=\"dataframe\">\n",
       "  <thead>\n",
       "    <tr style=\"text-align: right;\">\n",
       "      <th></th>\n",
       "      <th>School Name</th>\n",
       "      <th>School Type</th>\n",
       "      <th>Total Students</th>\n",
       "      <th>Total School Budget</th>\n",
       "      <th>Per Student Budget</th>\n",
       "      <th>Average Math Score</th>\n",
       "      <th>Average Reading Score</th>\n",
       "      <th>% Passing Math</th>\n",
       "      <th>% Passing Reading</th>\n",
       "      <th>% Overall Passing</th>\n",
       "    </tr>\n",
       "  </thead>\n",
       "  <tbody>\n",
       "    <tr>\n",
       "      <th>0</th>\n",
       "      <td>Huang High School</td>\n",
       "      <td>District</td>\n",
       "      <td>2917</td>\n",
       "      <td>1910635</td>\n",
       "      <td>655.0</td>\n",
       "      <td>76.629414</td>\n",
       "      <td>81.182722</td>\n",
       "      <td>65.683922</td>\n",
       "      <td>81.316421</td>\n",
       "      <td>875.145698</td>\n",
       "    </tr>\n",
       "  </tbody>\n",
       "</table>\n",
       "</div>"
      ],
      "text/plain": [
       "         School Name School Type  Total Students  Total School Budget  \\\n",
       "0  Huang High School    District            2917              1910635   \n",
       "\n",
       "   Per Student Budget  Average Math Score  Average Reading Score  \\\n",
       "0               655.0           76.629414              81.182722   \n",
       "\n",
       "   % Passing Math  % Passing Reading  % Overall Passing  \n",
       "0       65.683922          81.316421         875.145698  "
      ]
     },
     "execution_count": 63,
     "metadata": {},
     "output_type": "execute_result"
    }
   ],
   "source": []
  }
 ],
 "metadata": {
  "kernelspec": {
   "display_name": "Python 3 (ipykernel)",
   "language": "python",
   "name": "python3"
  },
  "language_info": {
   "codemirror_mode": {
    "name": "ipython",
    "version": 3
   },
   "file_extension": ".py",
   "mimetype": "text/x-python",
   "name": "python",
   "nbconvert_exporter": "python",
   "pygments_lexer": "ipython3",
   "version": "3.10.11"
  }
 },
 "nbformat": 4,
 "nbformat_minor": 2
}
